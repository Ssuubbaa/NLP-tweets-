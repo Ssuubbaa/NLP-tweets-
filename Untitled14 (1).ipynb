{
  "cells": [
    {
      "cell_type": "code",
      "execution_count": null,
      "metadata": {
        "id": "Ij60DFiSxcSt"
      },
      "outputs": [],
      "source": [
        "import json"
      ]
    },
    {
      "cell_type": "code",
      "execution_count": null,
      "metadata": {
        "colab": {
          "base_uri": "https://localhost:8080/"
        },
        "id": "79LW0efSc0SH",
        "outputId": "1ba9f537-ae9f-4ce2-c286-e3606d95b5da"
      },
      "outputs": [
        {
          "name": "stdout",
          "output_type": "stream",
          "text": [
            "Drive already mounted at /content/drive; to attempt to forcibly remount, call drive.mount(\"/content/drive\", force_remount=True).\n"
          ]
        }
      ],
      "source": [
        "from google.colab import drive\n",
        "drive.mount('/content/drive')"
      ]
    },
    {
      "cell_type": "code",
      "execution_count": null,
      "metadata": {
        "colab": {
          "base_uri": "https://localhost:8080/",
          "height": 310
        },
        "id": "EPKZhc75fQHH",
        "outputId": "18429186-eb8c-49ac-db86-80db68df89aa"
      },
      "outputs": [
        {
          "data": {
            "text/html": [
              "\n",
              "  <div id=\"df-508c2a72-8dc3-4e4e-883d-91b03bad41ff\">\n",
              "    <div class=\"colab-df-container\">\n",
              "      <div>\n",
              "<style scoped>\n",
              "    .dataframe tbody tr th:only-of-type {\n",
              "        vertical-align: middle;\n",
              "    }\n",
              "\n",
              "    .dataframe tbody tr th {\n",
              "        vertical-align: top;\n",
              "    }\n",
              "\n",
              "    .dataframe thead th {\n",
              "        text-align: right;\n",
              "    }\n",
              "</style>\n",
              "<table border=\"1\" class=\"dataframe\">\n",
              "  <thead>\n",
              "    <tr style=\"text-align: right;\">\n",
              "      <th></th>\n",
              "      <th>2013-07-18 09:39:46.071961602</th>\n",
              "      <th>2013-07-17 03:40:32.173842437</th>\n",
              "      <th>2013-07-15 15:41:16.553048065</th>\n",
              "      <th>2013-07-12 19:19:42.367813635</th>\n",
              "      <th>2013-07-04 12:40:34.334232586</th>\n",
              "      <th>2013-07-04 08:44:42.278539265</th>\n",
              "      <th>2013-07-04 04:22:03.305394179</th>\n",
              "      <th>2013-07-03 21:48:41.159868423</th>\n",
              "      <th>2013-07-03 15:55:15.081797632</th>\n",
              "      <th>2013-07-03 04:25:53.837944834</th>\n",
              "      <th>...</th>\n",
              "      <th>1987-06-22 19:36:28.372967425</th>\n",
              "      <th>1987-06-22 13:38:05.220745216</th>\n",
              "      <th>1987-06-20 01:14:46.517178368</th>\n",
              "      <th>1987-06-19 13:30:22.587748353</th>\n",
              "      <th>1987-06-19 13:03:48.404117505</th>\n",
              "      <th>1987-06-19 12:17:53.643945985</th>\n",
              "      <th>1987-06-19 12:06:26.675290112</th>\n",
              "      <th>1987-06-17 23:05:41.186953217</th>\n",
              "      <th>1987-06-17 15:18:00.525635584</th>\n",
              "      <th>1987-06-13 10:44:06.537678849</th>\n",
              "    </tr>\n",
              "  </thead>\n",
              "  <tbody>\n",
              "    <tr>\n",
              "      <th>tweet_author</th>\n",
              "      <td>Hematopoiesis News</td>\n",
              "      <td>Michael Wang, MD</td>\n",
              "      <td>1stOncology</td>\n",
              "      <td>Toby Eyre</td>\n",
              "      <td>Lymphoma Hub</td>\n",
              "      <td>David Ledger</td>\n",
              "      <td>N Wales Cancer Forum</td>\n",
              "      <td>European Pharmaceutical Review</td>\n",
              "      <td>Graham Collins</td>\n",
              "      <td>CLL Ireland</td>\n",
              "      <td>...</td>\n",
              "      <td>C A R E N</td>\n",
              "      <td>Werneth Cricket</td>\n",
              "      <td>John P. Leonard, MD</td>\n",
              "      <td>Joy is a Lifestyle</td>\n",
              "      <td>Micheál 🇮🇪</td>\n",
              "      <td>Joy is a Lifestyle</td>\n",
              "      <td>𝓒𝓻𝓲𝔃𝔃𝔂 𝓟𝓮𝓻𝓻𝔂🌹</td>\n",
              "      <td>IQWiG</td>\n",
              "      <td>Medibooks</td>\n",
              "      <td>Medibooks</td>\n",
              "    </tr>\n",
              "    <tr>\n",
              "      <th>tweet_text</th>\n",
              "      <td>⚕️ Scientists conducted a Phase II study of ac...</td>\n",
              "      <td>This phase 2 Acalabrutinib-Venetoclax (AV) tri...</td>\n",
              "      <td>#NICE backs #AstraZenecas #Calquence for #CLL ...</td>\n",
              "      <td>#acalabrutinib is a valuable option in pts int...</td>\n",
              "      <td>NICE has recommended the use of acalabrutinib ...</td>\n",
              "      <td>NICE backs AstraZeneca’s Calquence for CLL htt...</td>\n",
              "      <td>This is England for now - these decisions usua...</td>\n",
              "      <td>AstraZeneca’s Calquence (acalabrutinib), a che...</td>\n",
              "      <td>Superstar @tobyeyre82 responding to the excell...</td>\n",
              "      <td>CLL patients all know the drug Ibrutinib and y...</td>\n",
              "      <td>...</td>\n",
              "      <td>I miss them! 😋😆😅\\n\\n#FotoRus #FriendshipForeve...</td>\n",
              "      <td>The fixtures are out, first team will travel t...</td>\n",
              "      <td>Partnering @GileadSciences &amp;amp;Ono BTKi-combo...</td>\n",
              "      <td>Hanging out with Friends! :) #FF #CLL #Happine...</td>\n",
              "      <td>What I'd do to go to Gerrard's last game at An...</td>\n",
              "      <td>Hanging out with Friends! :) #FF #CLL #Happine...</td>\n",
              "      <td>Hanging out with Friends! :) #FF #CLL #Happine...</td>\n",
              "      <td>Zusatznutzen von #Idelalisib ist weder für #CL...</td>\n",
              "      <td>#Hematología PTK2 EXPRESSION AND IMMUNOCHEMOTH...</td>\n",
              "      <td>#Hematología MUTATIONS IN TLR/MYD88 PATHWAY ID...</td>\n",
              "    </tr>\n",
              "  </tbody>\n",
              "</table>\n",
              "<p>2 rows × 43347 columns</p>\n",
              "</div>\n",
              "      <button class=\"colab-df-convert\" onclick=\"convertToInteractive('df-508c2a72-8dc3-4e4e-883d-91b03bad41ff')\"\n",
              "              title=\"Convert this dataframe to an interactive table.\"\n",
              "              style=\"display:none;\">\n",
              "        \n",
              "  <svg xmlns=\"http://www.w3.org/2000/svg\" height=\"24px\"viewBox=\"0 0 24 24\"\n",
              "       width=\"24px\">\n",
              "    <path d=\"M0 0h24v24H0V0z\" fill=\"none\"/>\n",
              "    <path d=\"M18.56 5.44l.94 2.06.94-2.06 2.06-.94-2.06-.94-.94-2.06-.94 2.06-2.06.94zm-11 1L8.5 8.5l.94-2.06 2.06-.94-2.06-.94L8.5 2.5l-.94 2.06-2.06.94zm10 10l.94 2.06.94-2.06 2.06-.94-2.06-.94-.94-2.06-.94 2.06-2.06.94z\"/><path d=\"M17.41 7.96l-1.37-1.37c-.4-.4-.92-.59-1.43-.59-.52 0-1.04.2-1.43.59L10.3 9.45l-7.72 7.72c-.78.78-.78 2.05 0 2.83L4 21.41c.39.39.9.59 1.41.59.51 0 1.02-.2 1.41-.59l7.78-7.78 2.81-2.81c.8-.78.8-2.07 0-2.86zM5.41 20L4 18.59l7.72-7.72 1.47 1.35L5.41 20z\"/>\n",
              "  </svg>\n",
              "      </button>\n",
              "      \n",
              "  <style>\n",
              "    .colab-df-container {\n",
              "      display:flex;\n",
              "      flex-wrap:wrap;\n",
              "      gap: 12px;\n",
              "    }\n",
              "\n",
              "    .colab-df-convert {\n",
              "      background-color: #E8F0FE;\n",
              "      border: none;\n",
              "      border-radius: 50%;\n",
              "      cursor: pointer;\n",
              "      display: none;\n",
              "      fill: #1967D2;\n",
              "      height: 32px;\n",
              "      padding: 0 0 0 0;\n",
              "      width: 32px;\n",
              "    }\n",
              "\n",
              "    .colab-df-convert:hover {\n",
              "      background-color: #E2EBFA;\n",
              "      box-shadow: 0px 1px 2px rgba(60, 64, 67, 0.3), 0px 1px 3px 1px rgba(60, 64, 67, 0.15);\n",
              "      fill: #174EA6;\n",
              "    }\n",
              "\n",
              "    [theme=dark] .colab-df-convert {\n",
              "      background-color: #3B4455;\n",
              "      fill: #D2E3FC;\n",
              "    }\n",
              "\n",
              "    [theme=dark] .colab-df-convert:hover {\n",
              "      background-color: #434B5C;\n",
              "      box-shadow: 0px 1px 3px 1px rgba(0, 0, 0, 0.15);\n",
              "      filter: drop-shadow(0px 1px 2px rgba(0, 0, 0, 0.3));\n",
              "      fill: #FFFFFF;\n",
              "    }\n",
              "  </style>\n",
              "\n",
              "      <script>\n",
              "        const buttonEl =\n",
              "          document.querySelector('#df-508c2a72-8dc3-4e4e-883d-91b03bad41ff button.colab-df-convert');\n",
              "        buttonEl.style.display =\n",
              "          google.colab.kernel.accessAllowed ? 'block' : 'none';\n",
              "\n",
              "        async function convertToInteractive(key) {\n",
              "          const element = document.querySelector('#df-508c2a72-8dc3-4e4e-883d-91b03bad41ff');\n",
              "          const dataTable =\n",
              "            await google.colab.kernel.invokeFunction('convertToInteractive',\n",
              "                                                     [key], {});\n",
              "          if (!dataTable) return;\n",
              "\n",
              "          const docLinkHtml = 'Like what you see? Visit the ' +\n",
              "            '<a target=\"_blank\" href=https://colab.research.google.com/notebooks/data_table.ipynb>data table notebook</a>'\n",
              "            + ' to learn more about interactive tables.';\n",
              "          element.innerHTML = '';\n",
              "          dataTable['output_type'] = 'display_data';\n",
              "          await google.colab.output.renderOutput(dataTable, element);\n",
              "          const docLink = document.createElement('div');\n",
              "          docLink.innerHTML = docLinkHtml;\n",
              "          element.appendChild(docLink);\n",
              "        }\n",
              "      </script>\n",
              "    </div>\n",
              "  </div>\n",
              "  "
            ],
            "text/plain": [
              "                                  2013-07-18 09:39:46.071961602  \\\n",
              "tweet_author                                 Hematopoiesis News   \n",
              "tweet_text    ⚕️ Scientists conducted a Phase II study of ac...   \n",
              "\n",
              "                                  2013-07-17 03:40:32.173842437  \\\n",
              "tweet_author                                   Michael Wang, MD   \n",
              "tweet_text    This phase 2 Acalabrutinib-Venetoclax (AV) tri...   \n",
              "\n",
              "                                  2013-07-15 15:41:16.553048065  \\\n",
              "tweet_author                                        1stOncology   \n",
              "tweet_text    #NICE backs #AstraZenecas #Calquence for #CLL ...   \n",
              "\n",
              "                                  2013-07-12 19:19:42.367813635  \\\n",
              "tweet_author                                          Toby Eyre   \n",
              "tweet_text    #acalabrutinib is a valuable option in pts int...   \n",
              "\n",
              "                                  2013-07-04 12:40:34.334232586  \\\n",
              "tweet_author                                       Lymphoma Hub   \n",
              "tweet_text    NICE has recommended the use of acalabrutinib ...   \n",
              "\n",
              "                                  2013-07-04 08:44:42.278539265  \\\n",
              "tweet_author                                       David Ledger   \n",
              "tweet_text    NICE backs AstraZeneca’s Calquence for CLL htt...   \n",
              "\n",
              "                                  2013-07-04 04:22:03.305394179  \\\n",
              "tweet_author                               N Wales Cancer Forum   \n",
              "tweet_text    This is England for now - these decisions usua...   \n",
              "\n",
              "                                  2013-07-03 21:48:41.159868423  \\\n",
              "tweet_author                     European Pharmaceutical Review   \n",
              "tweet_text    AstraZeneca’s Calquence (acalabrutinib), a che...   \n",
              "\n",
              "                                  2013-07-03 15:55:15.081797632  \\\n",
              "tweet_author                                     Graham Collins   \n",
              "tweet_text    Superstar @tobyeyre82 responding to the excell...   \n",
              "\n",
              "                                  2013-07-03 04:25:53.837944834  ...  \\\n",
              "tweet_author                                        CLL Ireland  ...   \n",
              "tweet_text    CLL patients all know the drug Ibrutinib and y...  ...   \n",
              "\n",
              "                                  1987-06-22 19:36:28.372967425  \\\n",
              "tweet_author                                          C A R E N   \n",
              "tweet_text    I miss them! 😋😆😅\\n\\n#FotoRus #FriendshipForeve...   \n",
              "\n",
              "                                  1987-06-22 13:38:05.220745216  \\\n",
              "tweet_author                                    Werneth Cricket   \n",
              "tweet_text    The fixtures are out, first team will travel t...   \n",
              "\n",
              "                                  1987-06-20 01:14:46.517178368  \\\n",
              "tweet_author                                John P. Leonard, MD   \n",
              "tweet_text    Partnering @GileadSciences &amp;Ono BTKi-combo...   \n",
              "\n",
              "                                  1987-06-19 13:30:22.587748353  \\\n",
              "tweet_author                                 Joy is a Lifestyle   \n",
              "tweet_text    Hanging out with Friends! :) #FF #CLL #Happine...   \n",
              "\n",
              "                                  1987-06-19 13:03:48.404117505  \\\n",
              "tweet_author                                         Micheál 🇮🇪   \n",
              "tweet_text    What I'd do to go to Gerrard's last game at An...   \n",
              "\n",
              "                                  1987-06-19 12:17:53.643945985  \\\n",
              "tweet_author                                 Joy is a Lifestyle   \n",
              "tweet_text    Hanging out with Friends! :) #FF #CLL #Happine...   \n",
              "\n",
              "                                  1987-06-19 12:06:26.675290112  \\\n",
              "tweet_author                                      𝓒𝓻𝓲𝔃𝔃𝔂 𝓟𝓮𝓻𝓻𝔂🌹   \n",
              "tweet_text    Hanging out with Friends! :) #FF #CLL #Happine...   \n",
              "\n",
              "                                  1987-06-17 23:05:41.186953217  \\\n",
              "tweet_author                                              IQWiG   \n",
              "tweet_text    Zusatznutzen von #Idelalisib ist weder für #CL...   \n",
              "\n",
              "                                  1987-06-17 15:18:00.525635584  \\\n",
              "tweet_author                                          Medibooks   \n",
              "tweet_text    #Hematología PTK2 EXPRESSION AND IMMUNOCHEMOTH...   \n",
              "\n",
              "                                  1987-06-13 10:44:06.537678849  \n",
              "tweet_author                                          Medibooks  \n",
              "tweet_text    #Hematología MUTATIONS IN TLR/MYD88 PATHWAY ID...  \n",
              "\n",
              "[2 rows x 43347 columns]"
            ]
          },
          "execution_count": 47,
          "metadata": {},
          "output_type": "execute_result"
        }
      ],
      "source": [
        "import pandas as pd\n",
        "f =pd.read_json(\"/content/drive/MyDrive/tweets (1).json\")\n",
        "f.head()\n"
      ]
    },
    {
      "cell_type": "code",
      "execution_count": null,
      "metadata": {
        "colab": {
          "base_uri": "https://localhost:8080/",
          "height": 206
        },
        "id": "wQZDhROFtIXV",
        "outputId": "3993cdb7-00d6-4c04-e8da-80cfdfb031ba"
      },
      "outputs": [
        {
          "data": {
            "text/html": [
              "\n",
              "  <div id=\"df-6f128dd7-3e4e-49a5-a243-5d447ccee18a\">\n",
              "    <div class=\"colab-df-container\">\n",
              "      <div>\n",
              "<style scoped>\n",
              "    .dataframe tbody tr th:only-of-type {\n",
              "        vertical-align: middle;\n",
              "    }\n",
              "\n",
              "    .dataframe tbody tr th {\n",
              "        vertical-align: top;\n",
              "    }\n",
              "\n",
              "    .dataframe thead th {\n",
              "        text-align: right;\n",
              "    }\n",
              "</style>\n",
              "<table border=\"1\" class=\"dataframe\">\n",
              "  <thead>\n",
              "    <tr style=\"text-align: right;\">\n",
              "      <th></th>\n",
              "      <th>tweet_author</th>\n",
              "      <th>tweet_text</th>\n",
              "    </tr>\n",
              "  </thead>\n",
              "  <tbody>\n",
              "    <tr>\n",
              "      <th>2013-07-18 09:39:46.071961602</th>\n",
              "      <td>Hematopoiesis News</td>\n",
              "      <td>⚕️ Scientists conducted a Phase II study of ac...</td>\n",
              "    </tr>\n",
              "    <tr>\n",
              "      <th>2013-07-17 03:40:32.173842437</th>\n",
              "      <td>Michael Wang, MD</td>\n",
              "      <td>This phase 2 Acalabrutinib-Venetoclax (AV) tri...</td>\n",
              "    </tr>\n",
              "    <tr>\n",
              "      <th>2013-07-15 15:41:16.553048065</th>\n",
              "      <td>1stOncology</td>\n",
              "      <td>#NICE backs #AstraZenecas #Calquence for #CLL ...</td>\n",
              "    </tr>\n",
              "    <tr>\n",
              "      <th>2013-07-12 19:19:42.367813635</th>\n",
              "      <td>Toby Eyre</td>\n",
              "      <td>#acalabrutinib is a valuable option in pts int...</td>\n",
              "    </tr>\n",
              "    <tr>\n",
              "      <th>2013-07-04 12:40:34.334232586</th>\n",
              "      <td>Lymphoma Hub</td>\n",
              "      <td>NICE has recommended the use of acalabrutinib ...</td>\n",
              "    </tr>\n",
              "  </tbody>\n",
              "</table>\n",
              "</div>\n",
              "      <button class=\"colab-df-convert\" onclick=\"convertToInteractive('df-6f128dd7-3e4e-49a5-a243-5d447ccee18a')\"\n",
              "              title=\"Convert this dataframe to an interactive table.\"\n",
              "              style=\"display:none;\">\n",
              "        \n",
              "  <svg xmlns=\"http://www.w3.org/2000/svg\" height=\"24px\"viewBox=\"0 0 24 24\"\n",
              "       width=\"24px\">\n",
              "    <path d=\"M0 0h24v24H0V0z\" fill=\"none\"/>\n",
              "    <path d=\"M18.56 5.44l.94 2.06.94-2.06 2.06-.94-2.06-.94-.94-2.06-.94 2.06-2.06.94zm-11 1L8.5 8.5l.94-2.06 2.06-.94-2.06-.94L8.5 2.5l-.94 2.06-2.06.94zm10 10l.94 2.06.94-2.06 2.06-.94-2.06-.94-.94-2.06-.94 2.06-2.06.94z\"/><path d=\"M17.41 7.96l-1.37-1.37c-.4-.4-.92-.59-1.43-.59-.52 0-1.04.2-1.43.59L10.3 9.45l-7.72 7.72c-.78.78-.78 2.05 0 2.83L4 21.41c.39.39.9.59 1.41.59.51 0 1.02-.2 1.41-.59l7.78-7.78 2.81-2.81c.8-.78.8-2.07 0-2.86zM5.41 20L4 18.59l7.72-7.72 1.47 1.35L5.41 20z\"/>\n",
              "  </svg>\n",
              "      </button>\n",
              "      \n",
              "  <style>\n",
              "    .colab-df-container {\n",
              "      display:flex;\n",
              "      flex-wrap:wrap;\n",
              "      gap: 12px;\n",
              "    }\n",
              "\n",
              "    .colab-df-convert {\n",
              "      background-color: #E8F0FE;\n",
              "      border: none;\n",
              "      border-radius: 50%;\n",
              "      cursor: pointer;\n",
              "      display: none;\n",
              "      fill: #1967D2;\n",
              "      height: 32px;\n",
              "      padding: 0 0 0 0;\n",
              "      width: 32px;\n",
              "    }\n",
              "\n",
              "    .colab-df-convert:hover {\n",
              "      background-color: #E2EBFA;\n",
              "      box-shadow: 0px 1px 2px rgba(60, 64, 67, 0.3), 0px 1px 3px 1px rgba(60, 64, 67, 0.15);\n",
              "      fill: #174EA6;\n",
              "    }\n",
              "\n",
              "    [theme=dark] .colab-df-convert {\n",
              "      background-color: #3B4455;\n",
              "      fill: #D2E3FC;\n",
              "    }\n",
              "\n",
              "    [theme=dark] .colab-df-convert:hover {\n",
              "      background-color: #434B5C;\n",
              "      box-shadow: 0px 1px 3px 1px rgba(0, 0, 0, 0.15);\n",
              "      filter: drop-shadow(0px 1px 2px rgba(0, 0, 0, 0.3));\n",
              "      fill: #FFFFFF;\n",
              "    }\n",
              "  </style>\n",
              "\n",
              "      <script>\n",
              "        const buttonEl =\n",
              "          document.querySelector('#df-6f128dd7-3e4e-49a5-a243-5d447ccee18a button.colab-df-convert');\n",
              "        buttonEl.style.display =\n",
              "          google.colab.kernel.accessAllowed ? 'block' : 'none';\n",
              "\n",
              "        async function convertToInteractive(key) {\n",
              "          const element = document.querySelector('#df-6f128dd7-3e4e-49a5-a243-5d447ccee18a');\n",
              "          const dataTable =\n",
              "            await google.colab.kernel.invokeFunction('convertToInteractive',\n",
              "                                                     [key], {});\n",
              "          if (!dataTable) return;\n",
              "\n",
              "          const docLinkHtml = 'Like what you see? Visit the ' +\n",
              "            '<a target=\"_blank\" href=https://colab.research.google.com/notebooks/data_table.ipynb>data table notebook</a>'\n",
              "            + ' to learn more about interactive tables.';\n",
              "          element.innerHTML = '';\n",
              "          dataTable['output_type'] = 'display_data';\n",
              "          await google.colab.output.renderOutput(dataTable, element);\n",
              "          const docLink = document.createElement('div');\n",
              "          docLink.innerHTML = docLinkHtml;\n",
              "          element.appendChild(docLink);\n",
              "        }\n",
              "      </script>\n",
              "    </div>\n",
              "  </div>\n",
              "  "
            ],
            "text/plain": [
              "                                     tweet_author  \\\n",
              "2013-07-18 09:39:46.071961602  Hematopoiesis News   \n",
              "2013-07-17 03:40:32.173842437    Michael Wang, MD   \n",
              "2013-07-15 15:41:16.553048065         1stOncology   \n",
              "2013-07-12 19:19:42.367813635           Toby Eyre   \n",
              "2013-07-04 12:40:34.334232586        Lymphoma Hub   \n",
              "\n",
              "                                                                      tweet_text  \n",
              "2013-07-18 09:39:46.071961602  ⚕️ Scientists conducted a Phase II study of ac...  \n",
              "2013-07-17 03:40:32.173842437  This phase 2 Acalabrutinib-Venetoclax (AV) tri...  \n",
              "2013-07-15 15:41:16.553048065  #NICE backs #AstraZenecas #Calquence for #CLL ...  \n",
              "2013-07-12 19:19:42.367813635  #acalabrutinib is a valuable option in pts int...  \n",
              "2013-07-04 12:40:34.334232586  NICE has recommended the use of acalabrutinib ...  "
            ]
          },
          "execution_count": 48,
          "metadata": {},
          "output_type": "execute_result"
        }
      ],
      "source": [
        "a = f.T\n",
        "df = a.head()\n",
        "df"
      ]
    },
    {
      "cell_type": "code",
      "execution_count": null,
      "metadata": {
        "colab": {
          "base_uri": "https://localhost:8080/"
        },
        "id": "d28V9R2DzkLy",
        "outputId": "2d530ce4-75e4-491f-e50d-deb3a66a2f62"
      },
      "outputs": [
        {
          "data": {
            "text/plain": [
              "2013-07-18 09:39:46.071961602    ⚕️ Scientists conducted a Phase II study of ac...\n",
              "2013-07-17 03:40:32.173842437    This phase 2 Acalabrutinib-Venetoclax (AV) tri...\n",
              "2013-07-15 15:41:16.553048065    #NICE backs #AstraZenecas #Calquence for #CLL ...\n",
              "2013-07-12 19:19:42.367813635    #acalabrutinib is a valuable option in pts int...\n",
              "2013-07-04 12:40:34.334232586    NICE has recommended the use of acalabrutinib ...\n",
              "                                                       ...                        \n",
              "1987-06-19 12:17:53.643945985    Hanging out with Friends! :) #FF #CLL #Happine...\n",
              "1987-06-19 12:06:26.675290112    Hanging out with Friends! :) #FF #CLL #Happine...\n",
              "1987-06-17 23:05:41.186953217    Zusatznutzen von #Idelalisib ist weder für #CL...\n",
              "1987-06-17 15:18:00.525635584    #Hematología PTK2 EXPRESSION AND IMMUNOCHEMOTH...\n",
              "1987-06-13 10:44:06.537678849    #Hematología MUTATIONS IN TLR/MYD88 PATHWAY ID...\n",
              "Name: tweet_text, Length: 43347, dtype: object"
            ]
          },
          "execution_count": 49,
          "metadata": {},
          "output_type": "execute_result"
        }
      ],
      "source": [
        "a['tweet_text']"
      ]
    },
    {
      "cell_type": "code",
      "execution_count": null,
      "metadata": {
        "colab": {
          "base_uri": "https://localhost:8080/"
        },
        "id": "xLcZ-OHzzw0R",
        "outputId": "c1b2c3d1-c01d-4f68-a1a6-71852e55e01b"
      },
      "outputs": [
        {
          "name": "stderr",
          "output_type": "stream",
          "text": [
            "/usr/local/lib/python3.7/dist-packages/ipykernel_launcher.py:1: FutureWarning: The default value of regex will change from True to False in a future version.\n",
            "  \"\"\"Entry point for launching an IPython kernel.\n"
          ]
        },
        {
          "data": {
            "text/plain": [
              "2013-07-18 09:39:46.071961602       Scientists conducted a Phase II study of ac...\n",
              "2013-07-17 03:40:32.173842437    This phase 2 Acalabrutinib Venetoclax  AV  tri...\n",
              "2013-07-15 15:41:16.553048065     NICE backs  AstraZenecas  Calquence for  CLL ...\n",
              "2013-07-12 19:19:42.367813635     acalabrutinib is a valuable option in pts int...\n",
              "2013-07-04 12:40:34.334232586    NICE has recommended the use of acalabrutinib ...\n",
              "                                                       ...                        \n",
              "1987-06-19 12:17:53.643945985    Hanging out with Friends      FF  CLL  Happine...\n",
              "1987-06-19 12:06:26.675290112    Hanging out with Friends      FF  CLL  Happine...\n",
              "1987-06-17 23:05:41.186953217    Zusatznutzen von  Idelalisib ist weder f r  CL...\n",
              "1987-06-17 15:18:00.525635584     Hematolog a PTK2 EXPRESSION AND IMMUNOCHEMOTH...\n",
              "1987-06-13 10:44:06.537678849     Hematolog a MUTATIONS IN TLR MYD88 PATHWAY ID...\n",
              "Name: tweet_text_processed, Length: 43347, dtype: object"
            ]
          },
          "execution_count": 50,
          "metadata": {},
          "output_type": "execute_result"
        }
      ],
      "source": [
        "a['tweet_text_processed']=a['tweet_text'].str.replace(\"[^a-zA-Z0-9]\",\" \")\n",
        "df = a[['tweet_author','tweet_text','tweet_text_processed']]\n",
        "df['tweet_text_processed']"
      ]
    },
    {
      "cell_type": "code",
      "execution_count": null,
      "metadata": {
        "colab": {
          "base_uri": "https://localhost:8080/"
        },
        "id": "RYoUFET71fCQ",
        "outputId": "46eb27ea-9f4f-4301-ce2a-c6d59e4c53e6"
      },
      "outputs": [
        {
          "data": {
            "text/plain": [
              "2013-07-18 09:39:46.071961602    Scientists conducted Phase study acalabrutinib...\n",
              "2013-07-17 03:40:32.173842437    This phase Acalabrutinib Venetoclax trial that...\n",
              "2013-07-15 15:41:16.553048065    NICE backs AstraZenecas Calquence for CLL http...\n",
              "2013-07-12 19:19:42.367813635    acalabrutinib valuable option pts intolerant i...\n",
              "2013-07-04 12:40:34.334232586    NICE has recommended the use acalabrutinib for...\n",
              "                                                       ...                        \n",
              "1987-06-19 12:17:53.643945985    Hanging out with Friends CLL Happiness http Pd...\n",
              "1987-06-19 12:06:26.675290112    Hanging out with Friends CLL Happiness http gy...\n",
              "1987-06-17 23:05:41.186953217    Zusatznutzen von Idelalisib ist weder CLL noch...\n",
              "1987-06-17 15:18:00.525635584    Hematolog PTK2 EXPRESSION AND IMMUNOCHEMOTHERA...\n",
              "1987-06-13 10:44:06.537678849    Hematolog MUTATIONS TLR MYD88 PATHWAY IDENTIFY...\n",
              "Name: tweet_text_processed, Length: 43347, dtype: object"
            ]
          },
          "execution_count": 51,
          "metadata": {},
          "output_type": "execute_result"
        }
      ],
      "source": [
        "df['tweet_text_processed'] = df['tweet_text_processed'].apply(lambda row: ' '.join([word for word in row.split() if len(word)>2]))\n",
        "df['tweet_text_processed']"
      ]
    },
    {
      "cell_type": "code",
      "execution_count": null,
      "metadata": {
        "colab": {
          "base_uri": "https://localhost:8080/"
        },
        "id": "YglzSznd1zMA",
        "outputId": "6eaecc9d-374d-486d-9ff0-040807a3b40c"
      },
      "outputs": [
        {
          "data": {
            "text/plain": [
              "2013-07-18 09:39:46.071961602    scientists conducted phase study acalabrutinib...\n",
              "2013-07-17 03:40:32.173842437    this phase acalabrutinib venetoclax trial that...\n",
              "2013-07-15 15:41:16.553048065    nice backs astrazenecas calquence for cll http...\n",
              "2013-07-12 19:19:42.367813635    acalabrutinib valuable option pts intolerant i...\n",
              "2013-07-04 12:40:34.334232586    nice has recommended the use acalabrutinib for...\n",
              "                                                       ...                        \n",
              "1987-06-19 12:17:53.643945985    hanging out with friends cll happiness http pd...\n",
              "1987-06-19 12:06:26.675290112    hanging out with friends cll happiness http gy...\n",
              "1987-06-17 23:05:41.186953217    zusatznutzen von idelalisib ist weder cll noch...\n",
              "1987-06-17 15:18:00.525635584    hematolog ptk2 expression and immunochemothera...\n",
              "1987-06-13 10:44:06.537678849    hematolog mutations tlr myd88 pathway identify...\n",
              "Name: tweet_text_processed, Length: 43347, dtype: object"
            ]
          },
          "execution_count": 52,
          "metadata": {},
          "output_type": "execute_result"
        }
      ],
      "source": [
        "df['tweet_text_processed'] = [tweet_text.lower() for tweet_text in df['tweet_text_processed']]\n",
        "df['tweet_text_processed']"
      ]
    },
    {
      "cell_type": "code",
      "execution_count": null,
      "metadata": {
        "colab": {
          "base_uri": "https://localhost:8080/"
        },
        "id": "yBVHIYKn2KH4",
        "outputId": "4e5dc309-fde0-4e8c-efee-bd12bccca89a"
      },
      "outputs": [
        {
          "name": "stderr",
          "output_type": "stream",
          "text": [
            "[nltk_data] Downloading package punkt to /root/nltk_data...\n",
            "[nltk_data]   Package punkt is already up-to-date!\n",
            "[nltk_data] Downloading package stopwords to /root/nltk_data...\n",
            "[nltk_data]   Package stopwords is already up-to-date!\n"
          ]
        },
        {
          "data": {
            "text/plain": [
              "2013-07-18 09:39:46.071961602    scientists conducted phase study acalabrutinib...\n",
              "2013-07-17 03:40:32.173842437    phase acalabrutinib venetoclax trial still rec...\n",
              "2013-07-15 15:41:16.553048065    nice backs astrazenecas calquence cll https vb...\n",
              "2013-07-12 19:19:42.367813635    acalabrutinib valuable option pts intolerant i...\n",
              "2013-07-04 12:40:34.334232586    nice recommended use acalabrutinib patients tr...\n",
              "                                                       ...                        \n",
              "1987-06-19 12:17:53.643945985        hanging friends cll happiness http pdleww6bbb\n",
              "1987-06-19 12:06:26.675290112        hanging friends cll happiness http gynchdnul2\n",
              "1987-06-17 23:05:41.186953217    zusatznutzen von idelalisib ist weder cll noch...\n",
              "1987-06-17 15:18:00.525635584    hematolog ptk2 expression immunochemotherapy o...\n",
              "1987-06-13 10:44:06.537678849    hematolog mutations tlr myd88 pathway identify...\n",
              "Name: tweet_text_processed, Length: 43347, dtype: object"
            ]
          },
          "execution_count": 53,
          "metadata": {},
          "output_type": "execute_result"
        }
      ],
      "source": [
        "# Removing Stopwords Begin\n",
        "import nltk\n",
        "nltk.download('punkt')\n",
        "nltk.download('stopwords')\n",
        "from nltk.corpus import stopwords\n",
        "from nltk import word_tokenize\n",
        "\n",
        "stop_words = stopwords.words('english')\n",
        "\n",
        "# Function to remove stop words \n",
        "def remove_stopwords(rev):\n",
        "    # iNPUT : IT WILL TAKE ROW/REVIEW AS AN INPUT\n",
        "    # take the paragraph, break into words, check if the word is a stop word, remove if stop word, combine the words into a para again\n",
        "    tweet_text_tokenized = word_tokenize(rev)\n",
        "    rev_new = \" \".join([i for i in tweet_text_tokenized  if i not in stop_words])\n",
        "    return rev_new\n",
        "\n",
        "# Removing stopwords\n",
        "df['tweet_text_processed'] = [remove_stopwords(r) for r in df['tweet_text_processed']]\n",
        "df['tweet_text_processed']"
      ]
    },
    {
      "cell_type": "code",
      "execution_count": null,
      "metadata": {
        "colab": {
          "background_save": true,
          "base_uri": "https://localhost:8080/"
        },
        "id": "lONuVKlU27ap",
        "outputId": "931f51d1-ce79-4929-cc71-04288ee0bf76"
      },
      "outputs": [
        {
          "name": "stderr",
          "output_type": "stream",
          "text": [
            "[nltk_data] Downloading package wordnet to /root/nltk_data...\n",
            "[nltk_data]   Package wordnet is already up-to-date!\n",
            "[nltk_data] Downloading package omw-1.4 to /root/nltk_data...\n",
            "[nltk_data]   Package omw-1.4 is already up-to-date!\n",
            "[nltk_data] Downloading package averaged_perceptron_tagger to\n",
            "[nltk_data]     /root/nltk_data...\n",
            "[nltk_data]   Package averaged_perceptron_tagger is already up-to-\n",
            "[nltk_data]       date!\n"
          ]
        }
      ],
      "source": [
        "# Begin Lemmatization \n",
        "nltk.download('wordnet')\n",
        "nltk.download('omw-1.4')\n",
        "nltk.download('averaged_perceptron_tagger')\n",
        "from nltk.stem import WordNetLemmatizer\n",
        "from nltk.corpus import wordnet\n",
        "\n",
        "# function to convert nltk tag to wordnet tag\n",
        "lemmatizer = WordNetLemmatizer()\n",
        "\n",
        "# Finds the part of speech tag\n",
        "# Convert the detailed POS tag into a shallow information\n",
        "def nltk_tag_to_wordnet_tag(nltk_tag):\n",
        "    if nltk_tag.startswith('J'):\n",
        "        return wordnet.ADJ\n",
        "    elif nltk_tag.startswith('V'):\n",
        "        return wordnet.VERB\n",
        "    elif nltk_tag.startswith('N'):\n",
        "        return wordnet.NOUN\n",
        "    elif nltk_tag.startswith('R'):\n",
        "        return wordnet.ADV\n",
        "    else:          \n",
        "        return None\n",
        "\n",
        "# lemmatize sentence using pos tag\n",
        "def lemmatize_sentence(sentence):\n",
        "  # word tokenize -> pos tag (detailed) -> wordnet tag (shallow pos) -> lemmatizer -> root word\n",
        "    #tokenize the sentence and find the POS tag for each token\n",
        "    nltk_tagged = nltk.pos_tag(nltk.word_tokenize(sentence))  \n",
        "    #tuple of (token, wordnet_tag)\n",
        "    wordnet_tagged = map(lambda x: (x[0], nltk_tag_to_wordnet_tag(x[1])), nltk_tagged)\n",
        "    lemmatized_sentence = []\n",
        "    for word, tag in wordnet_tagged:\n",
        "        if tag is None:\n",
        "            #if there is no available tag, append the token as is\n",
        "            lemmatized_sentence.append(word)\n",
        "        else:        \n",
        "            #else use the tag to lemmatize the token\n",
        "            lemmatized_sentence.append(lemmatizer.lemmatize(word, tag))\n",
        "    return \" \".join(lemmatized_sentence)\n",
        "\n",
        "\n",
        "df['tweet_text_processed'] = df['tweet_text_processed'].apply(lambda x: lemmatize_sentence(x))\n"
      ]
    },
    {
      "cell_type": "code",
      "execution_count": null,
      "metadata": {
        "colab": {
          "base_uri": "https://localhost:8080/"
        },
        "id": "qmih4R6q3GPQ",
        "outputId": "2ea3f193-7a53-449e-861d-1ac66846940c"
      },
      "outputs": [
        {
          "output_type": "execute_result",
          "data": {
            "text/plain": [
              "2013-07-18 09:39:46.071961602    scientist conduct phase study acalabrutinib pa...\n",
              "2013-07-17 03:40:32.173842437    phase acalabrutinib venetoclax trial still rec...\n",
              "2013-07-15 15:41:16.553048065    nice back astrazenecas calquence cll http vb5l...\n",
              "2013-07-12 19:19:42.367813635    acalabrutinib valuable option pt intolerant ib...\n",
              "2013-07-04 12:40:34.334232586    nice recommend use acalabrutinib patient treat...\n",
              "                                                       ...                        \n",
              "1987-06-19 12:17:53.643945985            hang friend cll happiness http pdleww6bbb\n",
              "1987-06-19 12:06:26.675290112            hang friend cll happiness http gynchdnul2\n",
              "1987-06-17 23:05:41.186953217    zusatznutzen von idelalisib ist weder cll noch...\n",
              "1987-06-17 15:18:00.525635584    hematolog ptk2 expression immunochemotherapy o...\n",
              "1987-06-13 10:44:06.537678849    hematolog mutation tlr myd88 pathway identify ...\n",
              "Name: tweet_text_processed, Length: 43347, dtype: object"
            ]
          },
          "metadata": {},
          "execution_count": 55
        }
      ],
      "source": [
        "df['tweet_text_processed']"
      ]
    },
    {
      "cell_type": "code",
      "execution_count": null,
      "metadata": {
        "id": "NoUb_BrIo2_A"
      },
      "outputs": [],
      "source": [
        "output=df.tweet_text_processed.str.split(expand=True).stack().value_counts()\n",
        "output.to_csv(\"objective1.csv\")\n",
        "#most_occur = df1.most_common()\n",
        "\n",
        "#print(most_occur)\n"
      ]
    },
    {
      "cell_type": "code",
      "execution_count": null,
      "metadata": {
        "colab": {
          "base_uri": "https://localhost:8080/"
        },
        "id": "Vplno1tgoKEM",
        "outputId": "76ad844e-5ff9-47f6-b3d2-5ac8a624d250"
      },
      "outputs": [
        {
          "output_type": "stream",
          "name": "stdout",
          "text": [
            "All frequencies\n",
            "                                                 Word  Frequency\n",
            "0                        chronic lymphocytic leukemia         80\n",
            "1   new cll research study available placebo see q...         69\n",
            "2   look new solution cll patientpower explores cl...         65\n",
            "3   chronic lymphocytic leukemia cll hypogammaglob...         58\n",
            "4   relapse cll new trial actively enrol placebo l...         42\n",
            "..                                                ...        ...\n",
            "95  new2trip rituximab ruxience non hodgkin lympho...          5\n",
            "96  chronic lymphocytic leukemia part http pp9ecga...          5\n",
            "97  libertadoresfem cll americadecali unidasporelo...          5\n",
            "98  patientpower seek patient use rituxan hycela s...          5\n",
            "99  target bcl2 venetoclax relapse chronic lymphoc...          5\n",
            "\n",
            "[100 rows x 2 columns]\n"
          ]
        }
      ],
      "source": [
        "import pandas as pd\n",
        "import nltk\n",
        "#data = pd.read_csv(\"X:\\Firm_Data.csv\")\n",
        "top_N = 100\n",
        "word_dist = nltk.FreqDist(df['tweet_text_processed'])\n",
        "print('All frequencies')\n",
        "#print('='*60)\n",
        "rslt=pd.DataFrame(word_dist.most_common(top_N),columns=['Word','Frequency'])\n",
        "\n",
        "output = print(rslt)\n",
        "rslt.to_csv(\"objective1_1.csv\")\n",
        "#print ('='*60)\n"
      ]
    },
    {
      "cell_type": "code",
      "source": [
        "s=pd.read_csv('/content/objective1_1.csv')\n",
        "s"
      ],
      "metadata": {
        "colab": {
          "base_uri": "https://localhost:8080/",
          "height": 423
        },
        "id": "PQThRM828Cgh",
        "outputId": "a893d462-702e-41fa-8217-8fc5219df784"
      },
      "execution_count": null,
      "outputs": [
        {
          "output_type": "execute_result",
          "data": {
            "text/plain": [
              "    Unnamed: 0                                               Word  Frequency\n",
              "0            0                       chronic lymphocytic leukemia         80\n",
              "1            1  new cll research study available placebo see q...         69\n",
              "2            2  look new solution cll patientpower explores cl...         65\n",
              "3            3  chronic lymphocytic leukemia cll hypogammaglob...         58\n",
              "4            4  relapse cll new trial actively enrol placebo l...         42\n",
              "..         ...                                                ...        ...\n",
              "95          95  new2trip rituximab ruxience non hodgkin lympho...          5\n",
              "96          96  chronic lymphocytic leukemia part http pp9ecga...          5\n",
              "97          97  libertadoresfem cll americadecali unidasporelo...          5\n",
              "98          98  patientpower seek patient use rituxan hycela s...          5\n",
              "99          99  target bcl2 venetoclax relapse chronic lymphoc...          5\n",
              "\n",
              "[100 rows x 3 columns]"
            ],
            "text/html": [
              "\n",
              "  <div id=\"df-040f9e9c-fa75-4e97-bf53-208ea086273b\">\n",
              "    <div class=\"colab-df-container\">\n",
              "      <div>\n",
              "<style scoped>\n",
              "    .dataframe tbody tr th:only-of-type {\n",
              "        vertical-align: middle;\n",
              "    }\n",
              "\n",
              "    .dataframe tbody tr th {\n",
              "        vertical-align: top;\n",
              "    }\n",
              "\n",
              "    .dataframe thead th {\n",
              "        text-align: right;\n",
              "    }\n",
              "</style>\n",
              "<table border=\"1\" class=\"dataframe\">\n",
              "  <thead>\n",
              "    <tr style=\"text-align: right;\">\n",
              "      <th></th>\n",
              "      <th>Unnamed: 0</th>\n",
              "      <th>Word</th>\n",
              "      <th>Frequency</th>\n",
              "    </tr>\n",
              "  </thead>\n",
              "  <tbody>\n",
              "    <tr>\n",
              "      <th>0</th>\n",
              "      <td>0</td>\n",
              "      <td>chronic lymphocytic leukemia</td>\n",
              "      <td>80</td>\n",
              "    </tr>\n",
              "    <tr>\n",
              "      <th>1</th>\n",
              "      <td>1</td>\n",
              "      <td>new cll research study available placebo see q...</td>\n",
              "      <td>69</td>\n",
              "    </tr>\n",
              "    <tr>\n",
              "      <th>2</th>\n",
              "      <td>2</td>\n",
              "      <td>look new solution cll patientpower explores cl...</td>\n",
              "      <td>65</td>\n",
              "    </tr>\n",
              "    <tr>\n",
              "      <th>3</th>\n",
              "      <td>3</td>\n",
              "      <td>chronic lymphocytic leukemia cll hypogammaglob...</td>\n",
              "      <td>58</td>\n",
              "    </tr>\n",
              "    <tr>\n",
              "      <th>4</th>\n",
              "      <td>4</td>\n",
              "      <td>relapse cll new trial actively enrol placebo l...</td>\n",
              "      <td>42</td>\n",
              "    </tr>\n",
              "    <tr>\n",
              "      <th>...</th>\n",
              "      <td>...</td>\n",
              "      <td>...</td>\n",
              "      <td>...</td>\n",
              "    </tr>\n",
              "    <tr>\n",
              "      <th>95</th>\n",
              "      <td>95</td>\n",
              "      <td>new2trip rituximab ruxience non hodgkin lympho...</td>\n",
              "      <td>5</td>\n",
              "    </tr>\n",
              "    <tr>\n",
              "      <th>96</th>\n",
              "      <td>96</td>\n",
              "      <td>chronic lymphocytic leukemia part http pp9ecga...</td>\n",
              "      <td>5</td>\n",
              "    </tr>\n",
              "    <tr>\n",
              "      <th>97</th>\n",
              "      <td>97</td>\n",
              "      <td>libertadoresfem cll americadecali unidasporelo...</td>\n",
              "      <td>5</td>\n",
              "    </tr>\n",
              "    <tr>\n",
              "      <th>98</th>\n",
              "      <td>98</td>\n",
              "      <td>patientpower seek patient use rituxan hycela s...</td>\n",
              "      <td>5</td>\n",
              "    </tr>\n",
              "    <tr>\n",
              "      <th>99</th>\n",
              "      <td>99</td>\n",
              "      <td>target bcl2 venetoclax relapse chronic lymphoc...</td>\n",
              "      <td>5</td>\n",
              "    </tr>\n",
              "  </tbody>\n",
              "</table>\n",
              "<p>100 rows × 3 columns</p>\n",
              "</div>\n",
              "      <button class=\"colab-df-convert\" onclick=\"convertToInteractive('df-040f9e9c-fa75-4e97-bf53-208ea086273b')\"\n",
              "              title=\"Convert this dataframe to an interactive table.\"\n",
              "              style=\"display:none;\">\n",
              "        \n",
              "  <svg xmlns=\"http://www.w3.org/2000/svg\" height=\"24px\"viewBox=\"0 0 24 24\"\n",
              "       width=\"24px\">\n",
              "    <path d=\"M0 0h24v24H0V0z\" fill=\"none\"/>\n",
              "    <path d=\"M18.56 5.44l.94 2.06.94-2.06 2.06-.94-2.06-.94-.94-2.06-.94 2.06-2.06.94zm-11 1L8.5 8.5l.94-2.06 2.06-.94-2.06-.94L8.5 2.5l-.94 2.06-2.06.94zm10 10l.94 2.06.94-2.06 2.06-.94-2.06-.94-.94-2.06-.94 2.06-2.06.94z\"/><path d=\"M17.41 7.96l-1.37-1.37c-.4-.4-.92-.59-1.43-.59-.52 0-1.04.2-1.43.59L10.3 9.45l-7.72 7.72c-.78.78-.78 2.05 0 2.83L4 21.41c.39.39.9.59 1.41.59.51 0 1.02-.2 1.41-.59l7.78-7.78 2.81-2.81c.8-.78.8-2.07 0-2.86zM5.41 20L4 18.59l7.72-7.72 1.47 1.35L5.41 20z\"/>\n",
              "  </svg>\n",
              "      </button>\n",
              "      \n",
              "  <style>\n",
              "    .colab-df-container {\n",
              "      display:flex;\n",
              "      flex-wrap:wrap;\n",
              "      gap: 12px;\n",
              "    }\n",
              "\n",
              "    .colab-df-convert {\n",
              "      background-color: #E8F0FE;\n",
              "      border: none;\n",
              "      border-radius: 50%;\n",
              "      cursor: pointer;\n",
              "      display: none;\n",
              "      fill: #1967D2;\n",
              "      height: 32px;\n",
              "      padding: 0 0 0 0;\n",
              "      width: 32px;\n",
              "    }\n",
              "\n",
              "    .colab-df-convert:hover {\n",
              "      background-color: #E2EBFA;\n",
              "      box-shadow: 0px 1px 2px rgba(60, 64, 67, 0.3), 0px 1px 3px 1px rgba(60, 64, 67, 0.15);\n",
              "      fill: #174EA6;\n",
              "    }\n",
              "\n",
              "    [theme=dark] .colab-df-convert {\n",
              "      background-color: #3B4455;\n",
              "      fill: #D2E3FC;\n",
              "    }\n",
              "\n",
              "    [theme=dark] .colab-df-convert:hover {\n",
              "      background-color: #434B5C;\n",
              "      box-shadow: 0px 1px 3px 1px rgba(0, 0, 0, 0.15);\n",
              "      filter: drop-shadow(0px 1px 2px rgba(0, 0, 0, 0.3));\n",
              "      fill: #FFFFFF;\n",
              "    }\n",
              "  </style>\n",
              "\n",
              "      <script>\n",
              "        const buttonEl =\n",
              "          document.querySelector('#df-040f9e9c-fa75-4e97-bf53-208ea086273b button.colab-df-convert');\n",
              "        buttonEl.style.display =\n",
              "          google.colab.kernel.accessAllowed ? 'block' : 'none';\n",
              "\n",
              "        async function convertToInteractive(key) {\n",
              "          const element = document.querySelector('#df-040f9e9c-fa75-4e97-bf53-208ea086273b');\n",
              "          const dataTable =\n",
              "            await google.colab.kernel.invokeFunction('convertToInteractive',\n",
              "                                                     [key], {});\n",
              "          if (!dataTable) return;\n",
              "\n",
              "          const docLinkHtml = 'Like what you see? Visit the ' +\n",
              "            '<a target=\"_blank\" href=https://colab.research.google.com/notebooks/data_table.ipynb>data table notebook</a>'\n",
              "            + ' to learn more about interactive tables.';\n",
              "          element.innerHTML = '';\n",
              "          dataTable['output_type'] = 'display_data';\n",
              "          await google.colab.output.renderOutput(dataTable, element);\n",
              "          const docLink = document.createElement('div');\n",
              "          docLink.innerHTML = docLinkHtml;\n",
              "          element.appendChild(docLink);\n",
              "        }\n",
              "      </script>\n",
              "    </div>\n",
              "  </div>\n",
              "  "
            ]
          },
          "metadata": {},
          "execution_count": 88
        }
      ]
    }
  ],
  "metadata": {
    "colab": {
      "provenance": []
    },
    "kernelspec": {
      "display_name": "Python 3",
      "name": "python3"
    },
    "language_info": {
      "name": "python"
    }
  },
  "nbformat": 4,
  "nbformat_minor": 0
}